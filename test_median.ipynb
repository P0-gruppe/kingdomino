{
 "cells": [
  {
   "cell_type": "code",
   "execution_count": 1,
   "metadata": {},
   "outputs": [],
   "source": [
    "import pandas as pd\n",
    "import numpy as np\n",
    "import matplotlib.pyplot as plt\n",
    "import seaborn as sns\n",
    "\n",
    "from sklearn.metrics import classification_report\n",
    "\n",
    "import cv2 as cv\n",
    "import os"
   ]
  },
  {
   "cell_type": "code",
   "execution_count": 2,
   "metadata": {},
   "outputs": [
    {
     "data": {
      "text/html": [
       "<div>\n",
       "<style scoped>\n",
       "    .dataframe tbody tr th:only-of-type {\n",
       "        vertical-align: middle;\n",
       "    }\n",
       "\n",
       "    .dataframe tbody tr th {\n",
       "        vertical-align: top;\n",
       "    }\n",
       "\n",
       "    .dataframe thead th {\n",
       "        text-align: right;\n",
       "    }\n",
       "</style>\n",
       "<table border=\"1\" class=\"dataframe\">\n",
       "  <thead>\n",
       "    <tr style=\"text-align: right;\">\n",
       "      <th></th>\n",
       "      <th>n_img</th>\n",
       "      <th>n_row</th>\n",
       "      <th>n_col</th>\n",
       "      <th>tile_type</th>\n",
       "      <th>h</th>\n",
       "      <th>s</th>\n",
       "      <th>v</th>\n",
       "    </tr>\n",
       "  </thead>\n",
       "  <tbody>\n",
       "    <tr>\n",
       "      <th>0</th>\n",
       "      <td>0</td>\n",
       "      <td>4</td>\n",
       "      <td>4</td>\n",
       "      <td>0</td>\n",
       "      <td>26.0</td>\n",
       "      <td>246.0</td>\n",
       "      <td>198.0</td>\n",
       "    </tr>\n",
       "    <tr>\n",
       "      <th>1</th>\n",
       "      <td>0</td>\n",
       "      <td>0</td>\n",
       "      <td>0</td>\n",
       "      <td>1</td>\n",
       "      <td>43.0</td>\n",
       "      <td>215.0</td>\n",
       "      <td>156.0</td>\n",
       "    </tr>\n",
       "    <tr>\n",
       "      <th>2</th>\n",
       "      <td>0</td>\n",
       "      <td>1</td>\n",
       "      <td>0</td>\n",
       "      <td>1</td>\n",
       "      <td>44.0</td>\n",
       "      <td>212.0</td>\n",
       "      <td>156.0</td>\n",
       "    </tr>\n",
       "    <tr>\n",
       "      <th>3</th>\n",
       "      <td>0</td>\n",
       "      <td>1</td>\n",
       "      <td>4</td>\n",
       "      <td>1</td>\n",
       "      <td>42.0</td>\n",
       "      <td>216.0</td>\n",
       "      <td>151.0</td>\n",
       "    </tr>\n",
       "    <tr>\n",
       "      <th>4</th>\n",
       "      <td>0</td>\n",
       "      <td>2</td>\n",
       "      <td>0</td>\n",
       "      <td>1</td>\n",
       "      <td>41.0</td>\n",
       "      <td>209.0</td>\n",
       "      <td>154.0</td>\n",
       "    </tr>\n",
       "    <tr>\n",
       "      <th>...</th>\n",
       "      <td>...</td>\n",
       "      <td>...</td>\n",
       "      <td>...</td>\n",
       "      <td>...</td>\n",
       "      <td>...</td>\n",
       "      <td>...</td>\n",
       "      <td>...</td>\n",
       "    </tr>\n",
       "    <tr>\n",
       "      <th>1845</th>\n",
       "      <td>73</td>\n",
       "      <td>4</td>\n",
       "      <td>1</td>\n",
       "      <td>4</td>\n",
       "      <td>105.0</td>\n",
       "      <td>248.0</td>\n",
       "      <td>152.0</td>\n",
       "    </tr>\n",
       "    <tr>\n",
       "      <th>1846</th>\n",
       "      <td>73</td>\n",
       "      <td>4</td>\n",
       "      <td>2</td>\n",
       "      <td>4</td>\n",
       "      <td>105.0</td>\n",
       "      <td>250.0</td>\n",
       "      <td>160.0</td>\n",
       "    </tr>\n",
       "    <tr>\n",
       "      <th>1847</th>\n",
       "      <td>73</td>\n",
       "      <td>4</td>\n",
       "      <td>3</td>\n",
       "      <td>4</td>\n",
       "      <td>105.0</td>\n",
       "      <td>248.0</td>\n",
       "      <td>154.0</td>\n",
       "    </tr>\n",
       "    <tr>\n",
       "      <th>1848</th>\n",
       "      <td>73</td>\n",
       "      <td>4</td>\n",
       "      <td>4</td>\n",
       "      <td>4</td>\n",
       "      <td>106.0</td>\n",
       "      <td>232.0</td>\n",
       "      <td>138.0</td>\n",
       "    </tr>\n",
       "    <tr>\n",
       "      <th>1849</th>\n",
       "      <td>73</td>\n",
       "      <td>0</td>\n",
       "      <td>4</td>\n",
       "      <td>6</td>\n",
       "      <td>25.0</td>\n",
       "      <td>128.0</td>\n",
       "      <td>77.0</td>\n",
       "    </tr>\n",
       "  </tbody>\n",
       "</table>\n",
       "<p>1850 rows × 7 columns</p>\n",
       "</div>"
      ],
      "text/plain": [
       "      n_img  n_row  n_col  tile_type      h      s      v\n",
       "0         0      4      4          0   26.0  246.0  198.0\n",
       "1         0      0      0          1   43.0  215.0  156.0\n",
       "2         0      1      0          1   44.0  212.0  156.0\n",
       "3         0      1      4          1   42.0  216.0  151.0\n",
       "4         0      2      0          1   41.0  209.0  154.0\n",
       "...     ...    ...    ...        ...    ...    ...    ...\n",
       "1845     73      4      1          4  105.0  248.0  152.0\n",
       "1846     73      4      2          4  105.0  250.0  160.0\n",
       "1847     73      4      3          4  105.0  248.0  154.0\n",
       "1848     73      4      4          4  106.0  232.0  138.0\n",
       "1849     73      0      4          6   25.0  128.0   77.0\n",
       "\n",
       "[1850 rows x 7 columns]"
      ]
     },
     "execution_count": 2,
     "metadata": {},
     "output_type": "execute_result"
    }
   ],
   "source": [
    "df = pd.read_csv('median_hsv_full.csv')\n",
    "df"
   ]
  },
  {
   "cell_type": "code",
   "execution_count": 3,
   "metadata": {},
   "outputs": [],
   "source": [
    "validation_images = [0, 1, 2, 4, 5, 6, 7, 8, 9, 10, 11, 12, 13, 33, 34, 35, 36, 37, 38, 39, 40, 41, 42, 43, 44, 45, 46, 54, 55, 56, 64, 65, 66]\n",
    "df = df.rename(columns={'h': 'hue', 's': 'saturation', 'v': 'value'})\n",
    "\n",
    "train = df[df['n_img'].isin(validation_images)]\n",
    "test = df[~df['n_img'].isin(validation_images)]\n",
    "\n",
    "train = train.drop(['n_img', 'n_row', 'n_col'], axis=1)\n",
    "test = test.drop(['n_img', 'n_row', 'n_col'], axis=1)\n",
    "\n",
    "X_train = train.drop('tile_type', axis=1)\n",
    "X_test = test.drop('tile_type', axis=1)\n",
    "y_train = train['tile_type'].astype('category')\n",
    "y_test = test['tile_type'].astype('category')"
   ]
  },
  {
   "cell_type": "code",
   "execution_count": 4,
   "metadata": {},
   "outputs": [],
   "source": [
    "def get_tiles(image):\n",
    "    tiles = []\n",
    "    for y in range(5):\n",
    "        tiles.append([])\n",
    "        for x in range(5):\n",
    "            tiles[-1].append(image[y * 100 : (y + 1) * 100, x * 100 : (x + 1) * 100])\n",
    "    return tiles"
   ]
  },
  {
   "cell_type": "code",
   "execution_count": 5,
   "metadata": {},
   "outputs": [],
   "source": [
    "def get_terrain(hue, saturation, value):\n",
    "    if 22 < hue < 30 and 225 < saturation < 256 and 104 < value < 210:\n",
    "        return 0\n",
    "    if 28 < hue < 61 and 73 < saturation < 224 and 32 < value < 70:\n",
    "        return 2\n",
    "    if 100 < hue < 110 and 210 < saturation < 256 and 107 < value < 195:\n",
    "        return 4\n",
    "    if 33 < hue < 49 and 160 < saturation < 256 and 72 < value < 170:\n",
    "        return 1\n",
    "    if 17 < hue < 28 and 34 < saturation < 180 and 72 < value < 148:\n",
    "        return 3\n",
    "    if 19 < hue < 28 and 38 < saturation < 140 and 23 < value < 70:\n",
    "        return 5\n",
    "    if 16 < hue < 39 and 40 < saturation < 150 and 52 < value < 150:\n",
    "        return 6\n",
    "    return 7"
   ]
  },
  {
   "cell_type": "code",
   "execution_count": 6,
   "metadata": {},
   "outputs": [],
   "source": [
    "def predict(X):\n",
    "    pred = np.zeros(len(X))\n",
    "\n",
    "\n",
    "    for i in range(len(X)):\n",
    "        pred[i] = get_terrain(*X.iloc[i])\n",
    "\n",
    "    return pred"
   ]
  },
  {
   "cell_type": "code",
   "execution_count": 7,
   "metadata": {},
   "outputs": [
    {
     "data": {
      "text/plain": [
       "array([0., 0., 0., ..., 4., 4., 3.])"
      ]
     },
     "execution_count": 7,
     "metadata": {},
     "output_type": "execute_result"
    }
   ],
   "source": [
    "y_pred = predict(X_test)\n",
    "y_pred"
   ]
  },
  {
   "cell_type": "code",
   "execution_count": 8,
   "metadata": {},
   "outputs": [
    {
     "ename": "NameError",
     "evalue": "name 'classification_report' is not defined",
     "output_type": "error",
     "traceback": [
      "\u001b[1;31m---------------------------------------------------------------------------\u001b[0m",
      "\u001b[1;31mNameError\u001b[0m                                 Traceback (most recent call last)",
      "Cell \u001b[1;32mIn[8], line 21\u001b[0m\n\u001b[0;32m     13\u001b[0m y_pred_df \u001b[38;5;241m=\u001b[39m pd\u001b[38;5;241m.\u001b[39mDataFrame(y_pred)\u001b[38;5;241m.\u001b[39mastype(\u001b[38;5;124m'\u001b[39m\u001b[38;5;124mint\u001b[39m\u001b[38;5;124m'\u001b[39m)\u001b[38;5;241m.\u001b[39mapply(\u001b[38;5;28;01mlambda\u001b[39;00m x: tile_types_str[x])\n\u001b[0;32m     15\u001b[0m \u001b[38;5;66;03m# print(y_test_df)\u001b[39;00m\n\u001b[0;32m     16\u001b[0m \u001b[38;5;66;03m# print(y_pred_df)\u001b[39;00m\n\u001b[0;32m     17\u001b[0m \n\u001b[0;32m     18\u001b[0m \u001b[38;5;66;03m# y_test = np.choose(tile_types_str, y_test)\u001b[39;00m\n\u001b[0;32m     19\u001b[0m \u001b[38;5;66;03m# y_pred = np.choose(tile_types_str, y_pred)\u001b[39;00m\n\u001b[1;32m---> 21\u001b[0m report \u001b[38;5;241m=\u001b[39m \u001b[43mclassification_report\u001b[49m(y_test_df, y_pred_df, output_dict\u001b[38;5;241m=\u001b[39m\u001b[38;5;28;01mTrue\u001b[39;00m)\n\u001b[0;32m     23\u001b[0m report_df \u001b[38;5;241m=\u001b[39m pd\u001b[38;5;241m.\u001b[39mDataFrame(report)\u001b[38;5;241m.\u001b[39mtranspose()\n\u001b[0;32m     25\u001b[0m report_percentages \u001b[38;5;241m=\u001b[39m report_df\u001b[38;5;241m.\u001b[39mdrop([\u001b[38;5;124m'\u001b[39m\u001b[38;5;124mf1-score\u001b[39m\u001b[38;5;124m'\u001b[39m, \u001b[38;5;124m'\u001b[39m\u001b[38;5;124msupport\u001b[39m\u001b[38;5;124m'\u001b[39m], axis\u001b[38;5;241m=\u001b[39m\u001b[38;5;241m1\u001b[39m)\u001b[38;5;241m.\u001b[39mmul(\u001b[38;5;241m100\u001b[39m)\u001b[38;5;241m.\u001b[39mround(\u001b[38;5;241m1\u001b[39m)\u001b[38;5;241m.\u001b[39mastype(\u001b[38;5;28mstr\u001b[39m) \u001b[38;5;241m+\u001b[39m \u001b[38;5;124m'\u001b[39m\u001b[38;5;124m%\u001b[39m\u001b[38;5;124m'\u001b[39m\n",
      "\u001b[1;31mNameError\u001b[0m: name 'classification_report' is not defined"
     ]
    }
   ],
   "source": [
    "\n",
    "tile_types_str = np.array([\n",
    "    \"Wheat Field\",\n",
    "    \"Grassland\",\n",
    "    \"Forest\",\n",
    "    \"Swamp\",\n",
    "    \"Lake\",\n",
    "    \"Mine\",\n",
    "    \"Castle\",\n",
    "    \"Table\",\n",
    "])\n",
    "\n",
    "y_test_df = pd.DataFrame(y_test).astype('int').apply(lambda x: tile_types_str[x])\n",
    "y_pred_df = pd.DataFrame(y_pred).astype('int').apply(lambda x: tile_types_str[x])\n",
    "\n",
    "# print(y_test_df)\n",
    "# print(y_pred_df)\n",
    "\n",
    "# y_test = np.choose(tile_types_str, y_test)\n",
    "# y_pred = np.choose(tile_types_str, y_pred)\n",
    "\n",
    "report = classification_report(y_test_df, y_pred_df, output_dict=True)\n",
    "\n",
    "report_df = pd.DataFrame(report).transpose()\n",
    "\n",
    "report_percentages = report_df.drop(['f1-score', 'support'], axis=1).mul(100).round(1).astype(str) + '%'\n",
    "report_support = report_df['support']\n",
    "\n",
    "report_percentages['support'] = report_support.astype('int')\n",
    "report_percentages\n"
   ]
  },
  {
   "cell_type": "code",
   "execution_count": 26,
   "metadata": {},
   "outputs": [],
   "source": [
    "tile_classes = df['tile_type'].unique()\n",
    "confusion_matrix = np.zeros((len(tile_classes), len(tile_classes)))\n",
    "\n",
    "for i in range(len(tile_classes)):\n",
    "    for j in range(len(tile_classes)):\n",
    "        confusion_matrix[j, i] = np.sum(y_pred[y_test == i] == j)\n",
    "\n",
    "# pd.DataFrame(confusion_matrix)\n",
    "# sum(y == 6)"
   ]
  },
  {
   "cell_type": "code",
   "execution_count": 27,
   "metadata": {},
   "outputs": [
    {
     "data": {
      "image/png": "[encoded data removed]",
      "text/plain": [
       "<Figure size 1000x800 with 2 Axes>"
      ]
     },
     "metadata": {},
     "output_type": "display_data"
    }
   ],
   "source": [
    "# Create a figure and axis\n",
    "plt.figure(figsize=(10, 8))\n",
    "\n",
    "tile_classes_str = [\n",
    "    \"Wheat Field\",\n",
    "    \"Grassland\",\n",
    "    \"Forest\",\n",
    "    \"Swamp\",\n",
    "    \"Lake\",\n",
    "    \"Mine\",\n",
    "    \"Castle\",\n",
    "    \"Table\",\n",
    "]\n",
    "\n",
    "# Create the heatmap using Seaborn\n",
    "sns.heatmap(confusion_matrix.astype(np.int16), annot=True, fmt='d', cmap='Blues', \n",
    "            xticklabels=tile_classes_str,  # Replace with your class labels\n",
    "            yticklabels=tile_classes_str)  # Replace with your class labels\n",
    "\n",
    "# Set labels and title\n",
    "plt.xlabel('Actual')\n",
    "plt.ylabel('Predicted')\n",
    "plt.title('Confusion Matrix')\n",
    "\n",
    "# Show the plot\n",
    "plt.show()"
   ]
  },
  {
   "cell_type": "code",
   "execution_count": 28,
   "metadata": {},
   "outputs": [
    {
     "name": "stdout",
     "output_type": "stream",
     "text": [
      "med i cm: 1025.0\n",
      "ikke med i cm: 0.0\n",
      "andel ikke med i cm: 0.0%\n"
     ]
    }
   ],
   "source": [
    "print(f'med i cm: {confusion_matrix.sum()}')\n",
    "print(f'ikke med i cm: {len(y_pred) - confusion_matrix.sum()}')\n",
    "\n",
    "print(f'andel ikke med i cm: {(len(y_pred) - confusion_matrix.sum()) / len(y_pred):0.01%}')\n"
   ]
  }
 ],
 "metadata": {
  "kernelspec": {
   "display_name": "venv",
   "language": "python",
   "name": "python3"
  },
  "language_info": {
   "codemirror_mode": {
    "name": "ipython",
    "version": 3
   },
   "file_extension": ".py",
   "mimetype": "text/x-python",
   "name": "python",
   "nbconvert_exporter": "python",
   "pygments_lexer": "ipython3",
   "version": "3.12.5"
  }
 },
 "nbformat": 4,
 "nbformat_minor": 2
}
