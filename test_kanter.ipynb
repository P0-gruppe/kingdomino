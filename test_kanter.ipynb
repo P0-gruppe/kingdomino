{
 "cells": [
  {
   "cell_type": "code",
   "execution_count": 1,
   "metadata": {},
   "outputs": [],
   "source": [
    "import pandas as pd\n",
    "import numpy as np\n",
    "import matplotlib.pyplot as plt\n",
    "import seaborn as sns\n",
    "\n",
    "from sklearn.metrics import classification_report\n",
    "\n",
    "import cv2 as cv\n",
    "import os"
   ]
  },
  {
   "cell_type": "code",
   "execution_count": null,
   "metadata": {},
   "outputs": [],
   "source": [
    "df = pd.read_csv('./dataset/csv/dataset_kanter.csv')\n",
    "df"
   ]
  },
  {
   "cell_type": "code",
   "execution_count": 3,
   "metadata": {},
   "outputs": [],
   "source": [
    "validation_images = [0, 1, 2, 4, 5, 6, 7, 8, 9, 10, 11, 12, 13, 33, 34, 35, 36, 37, 38, 39, 40, 41, 42, 43, 44, 45, 46, 54, 55, 56, 64, 65, 66]\n",
    "df = df.rename(columns={'h': 'hue', 's': 'saturation', 'v': 'value'})\n",
    "\n",
    "train = df[df['n_img'].isin(validation_images)]\n",
    "test = df[~df['n_img'].isin(validation_images)]\n",
    "\n",
    "train = train.drop(['n_img', 'n_row', 'n_col'], axis=1)\n",
    "test = test.drop(['n_img', 'n_row', 'n_col'], axis=1)\n",
    "\n",
    "X_train = train.drop('tile_type', axis=1)\n",
    "X_test = test.drop('tile_type', axis=1)\n",
    "y_train = train['tile_type'].astype('category')\n",
    "y_test = test['tile_type'].astype('category')"
   ]
  },
  {
   "cell_type": "code",
   "execution_count": 4,
   "metadata": {},
   "outputs": [],
   "source": [
    "def get_terrain(hue, saturation, value):\n",
    "    if 23 <= hue <= 26:\n",
    "        return 0\n",
    "    elif 36 <= hue <= 39:\n",
    "        return 2\n",
    "    elif 40 <= hue <= 45:\n",
    "        return 1\n",
    "    elif 105 <= hue <= 109:\n",
    "        return 4\n",
    "    elif 20 <= hue <= 22:\n",
    "        return 3\n",
    "    elif 23 <= hue <= 26:\n",
    "        return 5\n",
    "    elif 23 <= hue <= 30:\n",
    "        return 6\n",
    "    return 7"
   ]
  },
  {
   "cell_type": "code",
   "execution_count": 5,
   "metadata": {},
   "outputs": [],
   "source": [
    "def predict(X):\n",
    "    pred = np.zeros(len(X))\n",
    "\n",
    "\n",
    "    for i in range(len(X)):\n",
    "        pred[i] = get_terrain(*X.iloc[i])\n",
    "\n",
    "    return pred"
   ]
  },
  {
   "cell_type": "code",
   "execution_count": null,
   "metadata": {},
   "outputs": [],
   "source": [
    "y_pred = predict(X_test)\n",
    "y_pred"
   ]
  },
  {
   "cell_type": "code",
   "execution_count": null,
   "metadata": {},
   "outputs": [],
   "source": [
    "\n",
    "tile_types_str = np.array([\n",
    "    \"Wheat Field\",\n",
    "    \"Grassland\",\n",
    "    \"Forest\",\n",
    "    \"Swamp\",\n",
    "    \"Lake\",\n",
    "    \"Mine\",\n",
    "    \"Castle\",\n",
    "    \"Table\",\n",
    "])\n",
    "\n",
    "y_test_df = pd.DataFrame(y_test).astype('int').apply(lambda x: tile_types_str[x])\n",
    "y_pred_df = pd.DataFrame(y_pred).astype('int').apply(lambda x: tile_types_str[x])\n",
    "\n",
    "# print(y_test_df)\n",
    "# print(y_pred_df)\n",
    "\n",
    "# y_test = np.choose(tile_types_str, y_test)\n",
    "# y_pred = np.choose(tile_types_str, y_pred)\n",
    "\n",
    "report = classification_report(y_test_df, y_pred_df, output_dict=True)\n",
    "\n",
    "report_df = pd.DataFrame(report).transpose()\n",
    "\n",
    "report_percentages = report_df.drop(['f1-score', 'support'], axis=1).mul(100).round(1).astype(str) + '%'\n",
    "report_support = report_df['support']\n",
    "\n",
    "report_percentages['support'] = report_support.astype('int')\n",
    "report_percentages\n"
   ]
  },
  {
   "cell_type": "code",
   "execution_count": 8,
   "metadata": {},
   "outputs": [],
   "source": [
    "tile_classes = df['tile_type'].unique()\n",
    "confusion_matrix = np.zeros((len(tile_classes), len(tile_classes)))\n",
    "\n",
    "for i in range(len(tile_classes)):\n",
    "    for j in range(len(tile_classes)):\n",
    "        confusion_matrix[j, i] = np.sum(y_pred[y_test == i] == j)\n",
    "\n",
    "# pd.DataFrame(confusion_matrix)\n",
    "# sum(y == 6)"
   ]
  },
  {
   "cell_type": "code",
   "execution_count": null,
   "metadata": {},
   "outputs": [],
   "source": [
    "# Create a figure and axis\n",
    "plt.figure(figsize=(10, 8))\n",
    "\n",
    "tile_classes_str = [\n",
    "    \"Wheat Field\",\n",
    "    \"Grassland\",\n",
    "    \"Forest\",\n",
    "    \"Swamp\",\n",
    "    \"Lake\",\n",
    "    \"Mine\",\n",
    "    \"Castle\",\n",
    "    \"Table\",\n",
    "]\n",
    "\n",
    "# Create the heatmap using Seaborn\n",
    "sns.heatmap(confusion_matrix.astype(np.int16), annot=True, fmt='d', cmap='Blues', \n",
    "            xticklabels=tile_classes_str,  # Replace with your class labels\n",
    "            yticklabels=tile_classes_str)  # Replace with your class labels\n",
    "\n",
    "# Set labels and title\n",
    "plt.xlabel('Actual')\n",
    "plt.ylabel('Predicted')\n",
    "plt.title('Confusion Matrix')\n",
    "\n",
    "# Show the plot\n",
    "plt.show()"
   ]
  },
  {
   "cell_type": "code",
   "execution_count": null,
   "metadata": {},
   "outputs": [],
   "source": [
    "print(f'med i cm: {confusion_matrix.sum()}')\n",
    "print(f'ikke med i cm: {len(y_pred) - confusion_matrix.sum()}')\n",
    "\n",
    "print(f'andel ikke med i cm: {(len(y_pred) - confusion_matrix.sum()) / len(y_pred):0.01%}')\n"
   ]
  }
 ],
 "metadata": {
  "kernelspec": {
   "display_name": "venv",
   "language": "python",
   "name": "python3"
  },
  "language_info": {
   "codemirror_mode": {
    "name": "ipython",
    "version": 3
   },
   "file_extension": ".py",
   "mimetype": "text/x-python",
   "name": "python",
   "nbconvert_exporter": "python",
   "pygments_lexer": "ipython3",
   "version": "3.12.6"
  }
 },
 "nbformat": 4,
 "nbformat_minor": 2
}
